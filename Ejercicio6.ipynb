{
  "nbformat": 4,
  "nbformat_minor": 0,
  "metadata": {
    "colab": {
      "provenance": [],
      "authorship_tag": "ABX9TyOTmlAu/N4YhuMnT+k1es/t",
      "include_colab_link": true
    },
    "kernelspec": {
      "name": "python3",
      "display_name": "Python 3"
    },
    "language_info": {
      "name": "python"
    }
  },
  "cells": [
    {
      "cell_type": "markdown",
      "metadata": {
        "id": "view-in-github",
        "colab_type": "text"
      },
      "source": [
        "<a href=\"https://colab.research.google.com/github/KorKoor/Python-Maestra-Liz/blob/main/Ejercicio6.ipynb\" target=\"_parent\"><img src=\"https://colab.research.google.com/assets/colab-badge.svg\" alt=\"Open In Colab\"/></a>"
      ]
    },
    {
      "cell_type": "markdown",
      "source": [
        "# Ejercicio Uniones\n"
      ],
      "metadata": {
        "id": "6PCGr7Hqx429"
      }
    },
    {
      "cell_type": "code",
      "execution_count": 3,
      "metadata": {
        "id": "6HEY_1bQx1ET"
      },
      "outputs": [],
      "source": [
        "import pandas as pd"
      ]
    },
    {
      "cell_type": "markdown",
      "source": [
        "#Crear dos DataFrames"
      ],
      "metadata": {
        "id": "FdOP_n95yCUn"
      }
    },
    {
      "cell_type": "code",
      "source": [
        "df1 = pd.DataFrame({\n",
        "    'ID': [1, 2 ,3 ,4],\n",
        "    'Nombre': ['Ana', 'Juan', 'Maria', 'Carlos'],\n",
        "    'Departamento': ['Ventas', 'IT', 'Marketing', 'RH']\n",
        "})\n",
        "\n",
        "df2 = pd.DataFrame({\n",
        "    'ID': [3, 4, 5, 6],\n",
        "    'Salario': ['50000', '60000', '55000', '65000']\n",
        "})\n",
        "\n",
        "print(\"DataFrame 1:\")\n",
        "print(df1)\n",
        "print(\"DataFrame 2:\")\n",
        "print(df2)"
      ],
      "metadata": {
        "colab": {
          "base_uri": "https://localhost:8080/"
        },
        "id": "Gi8KFmGEyBqi",
        "outputId": "8e95dc1e-f2a0-477e-c5ca-cb75c73d64d9"
      },
      "execution_count": 5,
      "outputs": [
        {
          "output_type": "stream",
          "name": "stdout",
          "text": [
            "DataFrame 1:\n",
            "   ID  Nombre Departamento\n",
            "0   1     Ana       Ventas\n",
            "1   2    Juan           IT\n",
            "2   3   Maria    Marketing\n",
            "3   4  Carlos           RH\n",
            "DataFrame 2:\n",
            "   ID Salario\n",
            "0   3   50000\n",
            "1   4   60000\n",
            "2   5   55000\n",
            "3   6   65000\n"
          ]
        }
      ]
    },
    {
      "cell_type": "markdown",
      "source": [
        "#Fusión Inner\n"
      ],
      "metadata": {
        "id": "pxQDBUwgzBa8"
      }
    },
    {
      "cell_type": "code",
      "source": [
        "inner_merge = pd.merge(df1, df2, on='ID', how='inner')\n",
        "print(\"Fusión Inner:\")\n",
        "print(inner_merge)"
      ],
      "metadata": {
        "colab": {
          "base_uri": "https://localhost:8080/"
        },
        "id": "fx9VVqmHzUSv",
        "outputId": "a7184050-2218-4ada-e236-81954f32956e"
      },
      "execution_count": 6,
      "outputs": [
        {
          "output_type": "stream",
          "name": "stdout",
          "text": [
            "Fusión Inner:\n",
            "   ID  Nombre Departamento Salario\n",
            "0   3   Maria    Marketing   50000\n",
            "1   4  Carlos           RH   60000\n"
          ]
        }
      ]
    },
    {
      "cell_type": "markdown",
      "source": [
        "#Fusión Outer\n"
      ],
      "metadata": {
        "id": "CvxC69U00JBa"
      }
    },
    {
      "cell_type": "code",
      "source": [
        "outer_merge = pd.merge(df1, df2, on='ID', how='outer')\n",
        "print(\"Fusión Outer:\")\n",
        "print(outer_merge)"
      ],
      "metadata": {
        "colab": {
          "base_uri": "https://localhost:8080/"
        },
        "id": "SBqBtgv10LqX",
        "outputId": "b5db3afb-41b6-4298-ca7d-2a78f0b4893c"
      },
      "execution_count": 7,
      "outputs": [
        {
          "output_type": "stream",
          "name": "stdout",
          "text": [
            "Fusión Outer:\n",
            "   ID  Nombre Departamento Salario\n",
            "0   1     Ana       Ventas     NaN\n",
            "1   2    Juan           IT     NaN\n",
            "2   3   Maria    Marketing   50000\n",
            "3   4  Carlos           RH   60000\n",
            "4   5     NaN          NaN   55000\n",
            "5   6     NaN          NaN   65000\n"
          ]
        }
      ]
    },
    {
      "cell_type": "markdown",
      "source": [
        "# Fusión left\n"
      ],
      "metadata": {
        "id": "r-U8GC9_0tcU"
      }
    },
    {
      "cell_type": "code",
      "source": [
        "left_merge = pd.merge(df1, df2, on='ID', how='left')\n",
        "print(\"Fusión Left:\")\n",
        "print(left_merge)"
      ],
      "metadata": {
        "colab": {
          "base_uri": "https://localhost:8080/"
        },
        "id": "vbURp74500-C",
        "outputId": "ab565169-caed-47cc-a42b-332c6f4c8fc9"
      },
      "execution_count": 10,
      "outputs": [
        {
          "output_type": "stream",
          "name": "stdout",
          "text": [
            "Fusión Left:\n",
            "   ID  Nombre Departamento Salario\n",
            "0   1     Ana       Ventas     NaN\n",
            "1   2    Juan           IT     NaN\n",
            "2   3   Maria    Marketing   50000\n",
            "3   4  Carlos           RH   60000\n"
          ]
        }
      ]
    },
    {
      "cell_type": "markdown",
      "source": [
        "# Fusión Right"
      ],
      "metadata": {
        "id": "fqTRJvx61KyB"
      }
    },
    {
      "cell_type": "code",
      "source": [
        "right_merge = pd.merge(df1, df2, on='ID', how='right')\n",
        "print(\"Fusión Right:\")\n",
        "print(right_merge)"
      ],
      "metadata": {
        "colab": {
          "base_uri": "https://localhost:8080/"
        },
        "id": "JVaTVZoV1Tm8",
        "outputId": "50d6d7f7-22e7-4004-da93-f136e90aa748"
      },
      "execution_count": 11,
      "outputs": [
        {
          "output_type": "stream",
          "name": "stdout",
          "text": [
            "Fusión Right:\n",
            "   ID  Nombre Departamento Salario\n",
            "0   3   Maria    Marketing   50000\n",
            "1   4  Carlos           RH   60000\n",
            "2   5     NaN          NaN   55000\n",
            "3   6     NaN          NaN   65000\n"
          ]
        }
      ]
    },
    {
      "cell_type": "markdown",
      "source": [
        "# Concatenación"
      ],
      "metadata": {
        "id": "5ODS5Ceg1Xxj"
      }
    },
    {
      "cell_type": "code",
      "source": [
        "df3 = pd.DataFrame({\n",
        "    'ID': [7, 8],\n",
        "    'Nombre': ['Sofia', 'Pedro'],\n",
        "    'Departamento': ['Finanzas', 'Ventas']\n",
        "})\n",
        "\n",
        "concatenated1 = pd.concat([df1, df3])\n",
        "print(\"Concatenación de DaraFrames:\")\n",
        "print(concatenated1)\n",
        "\n",
        "concatenated2 = pd.concat([concatenated1, df2])\n",
        "print(\"Concatenación de DaraFrames:\")\n",
        "print(concatenated2)"
      ],
      "metadata": {
        "colab": {
          "base_uri": "https://localhost:8080/"
        },
        "id": "ymQF-ki01ma5",
        "outputId": "b300fc84-9ce0-465a-88b8-05e90c3142db"
      },
      "execution_count": 15,
      "outputs": [
        {
          "output_type": "stream",
          "name": "stdout",
          "text": [
            "Concatenación de DaraFrames:\n",
            "   ID  Nombre Departamento\n",
            "0   1     Ana       Ventas\n",
            "1   2    Juan           IT\n",
            "2   3   Maria    Marketing\n",
            "3   4  Carlos           RH\n",
            "0   7   Sofia     Finanzas\n",
            "1   8   Pedro       Ventas\n",
            "Concatenación de DaraFrames:\n",
            "   ID  Nombre Departamento Salario\n",
            "0   1     Ana       Ventas     NaN\n",
            "1   2    Juan           IT     NaN\n",
            "2   3   Maria    Marketing     NaN\n",
            "3   4  Carlos           RH     NaN\n",
            "0   7   Sofia     Finanzas     NaN\n",
            "1   8   Pedro       Ventas     NaN\n",
            "0   3     NaN          NaN   50000\n",
            "1   4     NaN          NaN   60000\n",
            "2   5     NaN          NaN   55000\n",
            "3   6     NaN          NaN   65000\n"
          ]
        }
      ]
    }
  ]
}